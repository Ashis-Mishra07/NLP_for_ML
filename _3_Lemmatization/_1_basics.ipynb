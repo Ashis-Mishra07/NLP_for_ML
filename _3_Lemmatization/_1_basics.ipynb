{
 "cells": [
  {
   "cell_type": "markdown",
   "metadata": {},
   "source": [
    "# Lemmatization\n"
   ]
  },
  {
   "cell_type": "markdown",
   "metadata": {},
   "source": [
    "- Baically by using stemming for few words the values are changing so it may create ambuguity in some case .\n",
    "- So Lemmatization is used to prevent this issue .\n",
    "- Technique in which the o/p we will get after is called 'lemma' which is a root word rather than root stem .\n",
    "- After lemmatization we will be getting a valid word that means the same thing ."
   ]
  },
  {
   "cell_type": "markdown",
   "metadata": {},
   "source": [
    "#### Wordnet Lemmatizer\n",
    "\n",
    "- is a thin wrapper around the wordnet corpus ."
   ]
  },
  {
   "cell_type": "code",
   "execution_count": 1,
   "metadata": {},
   "outputs": [],
   "source": [
    "from nltk.stem import WordNetLemmatizer"
   ]
  },
  {
   "cell_type": "code",
   "execution_count": 2,
   "metadata": {},
   "outputs": [],
   "source": [
    "lemmatizer = WordNetLemmatizer()"
   ]
  },
  {
   "cell_type": "code",
   "execution_count": 3,
   "metadata": {},
   "outputs": [
    {
     "name": "stderr",
     "output_type": "stream",
     "text": [
      "[nltk_data] Downloading package wordnet to\n",
      "[nltk_data]     C:\\Users\\91993\\AppData\\Roaming\\nltk_data...\n"
     ]
    },
    {
     "name": "stdout",
     "output_type": "stream",
     "text": [
      "good\n"
     ]
    }
   ],
   "source": [
    "import nltk\n",
    "nltk.download('wordnet')\n",
    "\n",
    "lemmatizer.lemmatize(\"cats\")\n",
    "\n",
    "# different pos tags availabe\n",
    "# n - noun\n",
    "# v - verb\n",
    "# a - adjective\n",
    "# r - adverb\n",
    "print(lemmatizer.lemmatize(\"better\", pos=\"a\"))\n",
    "\n",
    "\n",
    "# bydefault pos is noun\n",
    "# if noun -> going\n",
    "# if verb -> go\n",
    "# if adjective -> going\n"
   ]
  },
  {
   "cell_type": "code",
   "execution_count": 6,
   "metadata": {},
   "outputs": [
    {
     "name": "stdout",
     "output_type": "stream",
     "text": [
      "eating ------> eat\n",
      "eats ------> eat\n",
      "eaten ------> eat\n",
      "writing ------> write\n",
      "writes ------> write\n",
      "programming ------> program\n",
      "programs ------> program\n",
      "programmers ------> programmers\n"
     ]
    }
   ],
   "source": [
    "words = [\"eating\" , \"eats\" , \"eaten\" , \"writing\" , \"writes\" , \"programming\" , \"programs\" , \"programmers\"]\n",
    "for word in words:\n",
    "    print(word , '------>' ,lemmatizer.lemmatize(word , pos='v'))"
   ]
  },
  {
   "cell_type": "markdown",
   "metadata": {},
   "source": [
    "- The only disadvantage is that it takes more time than stemming , since lemmatization uses  morphy() function to Wordnet CorpusReader class to find a lemma , so this makes a delay ."
   ]
  }
 ],
 "metadata": {
  "kernelspec": {
   "display_name": "Python 3",
   "language": "python",
   "name": "python3"
  },
  "language_info": {
   "codemirror_mode": {
    "name": "ipython",
    "version": 3
   },
   "file_extension": ".py",
   "mimetype": "text/x-python",
   "name": "python",
   "nbconvert_exporter": "python",
   "pygments_lexer": "ipython3",
   "version": "3.10.11"
  }
 },
 "nbformat": 4,
 "nbformat_minor": 2
}
